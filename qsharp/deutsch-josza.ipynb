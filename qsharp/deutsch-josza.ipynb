{
 "cells": [
  {
   "cell_type": "code",
   "execution_count": 1,
   "metadata": {
    "vscode": {
     "languageId": "qsharp"
    }
   },
   "outputs": [
    {
     "name": "stdout",
     "output_type": "stream",
     "text": [
      "Preparing Q# environment...\n"
     ]
    }
   ],
   "source": [
    "import qsharp"
   ]
  },
  {
   "cell_type": "code",
   "execution_count": null,
   "metadata": {
    "vscode": {
     "languageId": "qsharp"
    }
   },
   "outputs": [],
   "source": [
    "%%qsharp\n",
    "open Microsoft.Quantum.Measurement;\n",
    "open Microsoft.Quantum.Arrays;\n",
    "open Microsoft.Quantum.Convert;\n",
    "open Microsoft.Quantum.Random;\n",
    "\n",
    "operation Balanced(qubits : Qubit[], target : Qubit, n : Int) : Unit {\n",
    "    mutable bStr = new Int[n];\n",
    "    for i in 0..n-1 {\n",
    "        set bStr w/= i <- DrawRandomInt(0, 1);\n",
    "    }\n",
    "    for i in 0..n-1 {\n",
    "        if bStr[i] == 1 {\n",
    "            X(qubits[i]);\n",
    "        }\n",
    "    }\n",
    "    for qubit in qubits {\n",
    "        CNOT(qubit, target);\n",
    "    }\n",
    "    for i in 0..n-1 {\n",
    "        if bStr[i] == 1 {\n",
    "            X(qubits[i]);\n",
    "        }\n",
    "    }\n",
    "}\n",
    "\n",
    "operation Constant(target : Qubit) : Unit {\n",
    "    if DrawRandomInt(0, 1) == 1 {\n",
    "        X(target);\n",
    "    }\n",
    "}\n",
    "\n",
    "operation DeutschJosza(constant : Bool, n : Int) : Bool {\n",
    "    use qubits = Qubit[n];\n",
    "    use target = Qubit();\n",
    "\n",
    "    X(target);\n",
    "    H(target);\n",
    "\n",
    "    within {\n",
    "        ApplyToEachA(H, qubits);\n",
    "    } apply {\n",
    "        if constant {\n",
    "            Constant(target);\n",
    "        } else {\n",
    "            Balanced(qubits, target, n);\n",
    "        }\n",
    "    }\n",
    "\n",
    "    let resultArray = ForEach(MResetZ, qubits);\n",
    "    Reset(target);\n",
    "\n",
    "    return All(IsResultZero, resultArray);\n",
    "}"
   ]
  },
  {
   "cell_type": "code",
   "execution_count": null,
   "metadata": {
    "vscode": {
     "languageId": "qsharp"
    }
   },
   "outputs": [],
   "source": [
    "import time\n",
    "def calculate_time(n):\n",
    "        start = time.time()\n",
    "        result = DeutschJosza.simulate(constant=False, n=n)\n",
    "        end = time.time()\n",
    "        return end - start, result\n",
    "\n",
    "sum_times = [0] * 30\n",
    "for i in range(5):\n",
    "    times = []\n",
    "    for n in range(1, 31):\n",
    "        print(f\"for {n + 1} qubits:\")\n",
    "        try:\n",
    "            elapsed_time, result = calculate_time(n)\n",
    "            times.append(elapsed_time)\n",
    "            print(f\"took {elapsed_time}s\")\n",
    "        except Exception as e:\n",
    "            print(str(e))\n",
    "            break\n",
    "    for j in range(30):\n",
    "        sum_times[j] += times[j]\n",
    "avg_times = [t / 5 for t in sum_times]\n",
    "print(avg_times)"
   ]
  }
 ],
 "metadata": {
  "kernelspec": {
   "display_name": "Python 3",
   "language": "python",
   "name": "python3"
  },
  "language_info": {
   "codemirror_mode": {
    "name": "ipython",
    "version": 3
   },
   "file_extension": ".py",
   "mimetype": "text/x-python",
   "name": "python",
   "nbconvert_exporter": "python",
   "pygments_lexer": "ipython3",
   "version": "3.9.16"
  },
  "orig_nbformat": 4
 },
 "nbformat": 4,
 "nbformat_minor": 2
}
