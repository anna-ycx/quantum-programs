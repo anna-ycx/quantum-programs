{
 "cells": [
  {
   "cell_type": "code",
   "execution_count": null,
   "metadata": {},
   "outputs": [],
   "source": [
    "import qsharp"
   ]
  },
  {
   "cell_type": "code",
   "execution_count": null,
   "metadata": {},
   "outputs": [],
   "source": [
    "%%qsharp\n",
    "open Microsoft.Quantum.Intrinsic;\n",
    "open Microsoft.Quantum.Convert;\n",
    "open Microsoft.Quantum.Math;\n",
    "open Microsoft.Quantum.Canon;\n",
    "open Microsoft.Quantum.Arrays;\n",
    "open Microsoft.Quantum.Measurement;\n",
    "\n",
    "operation ApplyOracle(inputQubits : Qubit[], xPrime : Int[]) : Unit {\n",
    "    within {\n",
    "        for i in 0..Length(xPrime)-1 {\n",
    "            if xPrime[i] == 0 {\n",
    "                X(inputQubits[i]);\n",
    "            }\n",
    "        }\n",
    "    } apply {\n",
    "        Controlled Z(Most(inputQubits), Tail(inputQubits));\n",
    "    }\n",
    "}\n",
    "\n",
    "operation Diffuser(inputQubits : Qubit[]) : Unit {\n",
    "    within {\n",
    "        Adjoint ApplyToEachCA(H, inputQubits);\n",
    "        ApplyToEachCA(X, inputQubits);\n",
    "    } apply {\n",
    "        Controlled Z(Most(inputQubits), Tail(inputQubits));\n",
    "    }\n",
    "}\n",
    "\n",
    "operation GroversAlgorithm(nQubits : Int, xPrime : Int[]) : Result[] {\n",
    "    use qubits = Qubit[nQubits];\n",
    "    ApplyToEachCA(H, qubits);\n",
    "    for idxIteration in 0..(Round(0.25 * PI() / ArcSin(1. / Sqrt(IntAsDouble(1 <<< nQubits))) - 0.5) - 1) {\n",
    "        ApplyOracle(qubits, xPrime);\n",
    "        Diffuser(qubits);\n",
    "    }\n",
    "    return ForEach(MResetZ, qubits);\n",
    "}"
   ]
  },
  {
   "cell_type": "code",
   "execution_count": null,
   "metadata": {},
   "outputs": [],
   "source": [
    "import time\n",
    "import random\n",
    "import numpy as np\n",
    "def calculate_time(n, xprime):\n",
    "        start = time.time()\n",
    "        result = GroversAlgorithm(nQubits=n, xPrime=xprime)\n",
    "        end = time.time()\n",
    "        return end - start, result\n",
    "\n",
    "sum_times = [0] * 30\n",
    "for i in range(5):\n",
    "    times = []\n",
    "    for n in range(2, 32):\n",
    "        xprime = [random.randint(0, 1) for _ in range(n)]\n",
    "        no_iterations = int(np.floor(np.pi / 4 * np.sqrt(2 ** n)))\n",
    "        print(f\"for {n} qubits:\")\n",
    "        try:\n",
    "            elapsed_time, result = calculate_time(n, xprime)\n",
    "            times.append(elapsed_time)\n",
    "            result = int(\"\".join(str(x) for x in result)[::-1], base=2)\n",
    "            print(f\"took {elapsed_time}s, with x'={xprime} and {no_iterations} iterations, found={result == xprime}\")\n",
    "        except Exception as e:\n",
    "            print(str(e))\n",
    "            break\n",
    "    for j in range(30):\n",
    "        sum_times[j] += times[j]\n",
    "avg_times = [t / 5 for t in sum_times]\n",
    "print(avg_times)"
   ]
  }
 ],
 "metadata": {
  "language_info": {
   "name": "python"
  },
  "orig_nbformat": 4
 },
 "nbformat": 4,
 "nbformat_minor": 2
}
