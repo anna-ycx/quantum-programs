{
 "cells": [
  {
   "cell_type": "code",
   "execution_count": null,
   "metadata": {},
   "outputs": [],
   "source": [
    "import qsharp"
   ]
  },
  {
   "cell_type": "code",
   "execution_count": null,
   "metadata": {},
   "outputs": [],
   "source": [
    "%%qsharp\n",
    "open Microsoft.Quantum.Intrinsic;\n",
    "open Microsoft.Quantum.Convert;\n",
    "open Microsoft.Quantum.Math;\n",
    "open Microsoft.Quantum.Canon;\n",
    "open Microsoft.Quantum.Arrays;\n",
    "open Microsoft.Quantum.Measurement;\n",
    "\n",
    "operation QFT(n : Int) : Unit {\n",
    "    use qubits = Qubit[n];\n",
    "    for j in n - 1 .. -1 .. 0 {\n",
    "        H(qubits[j]);\n",
    "        for i in 0 .. j - 1 {\n",
    "            Controlled R1([qubits[i]], (PI() / IntAsDouble(2 ^ (j - i)), qubits[j]));\n",
    "        }\n",
    "    }\n",
    "    for i in 0 .. n / 2 - 1 {\n",
    "        SWAP(qubits[i], qubits[n - i - 1]);\n",
    "    }\n",
    "    ResetAll(qubits);\n",
    "}"
   ]
  }
 ],
 "metadata": {
  "language_info": {
   "name": "python"
  },
  "orig_nbformat": 4
 },
 "nbformat": 4,
 "nbformat_minor": 2
}
