{
 "cells": [
  {
   "cell_type": "code",
   "execution_count": null,
   "metadata": {},
   "outputs": [],
   "source": [
    "import qsharp"
   ]
  },
  {
   "cell_type": "code",
   "execution_count": null,
   "metadata": {},
   "outputs": [],
   "source": [
    "%%qsharp\n",
    "open Microsoft.Quantum.Intrinsic;\n",
    "open Microsoft.Quantum.Convert;\n",
    "open Microsoft.Quantum.Math;\n",
    "open Microsoft.Quantum.Canon;\n",
    "open Microsoft.Quantum.Arrays;\n",
    "open Microsoft.Quantum.Measurement;\n",
    "\n",
    "operation Shor() : Result[] {\n",
    "    use qubits = Qubit[nQubits];\n",
    "    for (i in 0 .. 3) {\n",
    "        H(qubits[i]);\n",
    "    }\n",
    "    CNOT(qubits[2], qubits[3]);\n",
    "    CNOT(qubits[2], qubits[4]);\n",
    "    H(qubits[1]);\n",
    "    Controlled R1(PI() / 2, qubits[1], qubits[0]);\n",
    "    H(qubits[0])\n",
    "    Controlled R1(PI() / 4, qubits[1], qubits[2]);\n",
    "    Controlled R1(PI() / 2, qubits[0], qubits[2]);\n",
    "    mutable r = new Result[n];\n",
    "    for (i in 0 .. 3) {\n",
    "        set r w/= i <- MResetZ(qubits[i]);\n",
    "    }\n",
    "    return r;    \n",
    "}"
   ]
  }
 ],
 "metadata": {
  "language_info": {
   "name": "python"
  },
  "orig_nbformat": 4
 },
 "nbformat": 4,
 "nbformat_minor": 2
}
